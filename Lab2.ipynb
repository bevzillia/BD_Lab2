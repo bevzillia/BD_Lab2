{
  "cells": [
    {
      "cell_type": "markdown",
      "metadata": {
        "id": "iH_0otgxHgYz"
      },
      "source": [
        "\n",
        "\n",
        "## № 1"
      ]
    },
    {
      "cell_type": "code",
      "execution_count": null,
      "metadata": {
        "id": "m2zrz-g1HgY1"
      },
      "outputs": [],
      "source": [
        "from __future__ import annotations\n",
        "from numbers import Real\n",
        "\n",
        "\n",
        "def is_even(arg: int) -> str:\n",
        "    if isinstance(arg, Real):\n",
        "      if arg % 2 == 0:\n",
        "        return \"even\"\n",
        "      if arg % 2 == 1:\n",
        "        return \"odd\"\n",
        "    return \"\"\n",
        "\n",
        "is_even(3.0+0j)"
      ]
    },
    {
      "cell_type": "markdown",
      "metadata": {
        "id": "lweQxc9sHgY2"
      },
      "source": [
        "##  № 2\n"
      ]
    },
    {
      "cell_type": "code",
      "execution_count": null,
      "metadata": {
        "id": "q5sTIq1RHgY3"
      },
      "outputs": [],
      "source": [
        "from __future__ import annotations\n",
        "from math import sqrt,floor\n",
        "\n",
        "\n",
        "def sum_simple() -> int:\n",
        "  numbers = []\n",
        "\n",
        "  i = 2\n",
        "  while len(numbers) < 5:\n",
        "    isPrime = True\n",
        "    for count in range(2, floor(sqrt(i))+1):\n",
        "      if i%count == 0:\n",
        "        isPrime = False\n",
        "        break\n",
        "    if isPrime:\n",
        "      numbers.append(i)\n",
        "    i += 1\n",
        "  return sum(numbers)"
      ]
    },
    {
      "cell_type": "markdown",
      "metadata": {
        "id": "q_-IQsM_HgY3"
      },
      "source": [
        "## № 3\n",
        "`"
      ]
    },
    {
      "cell_type": "code",
      "execution_count": null,
      "metadata": {
        "id": "gDEYTcURHgY4"
      },
      "outputs": [],
      "source": [
        "from __future__ import annotations\n",
        "\n",
        "def sum_ones(n: int = 5) -> int:\n",
        "    sequence = [0]\n",
        "    for count in range(0,n):\n",
        "      sequence.append(sequence[-1]*10+1)\n",
        "    return sum(sequence)"
      ]
    },
    {
      "cell_type": "markdown",
      "metadata": {
        "id": "U5fImnL4HgY4"
      },
      "source": [
        "\n",
        "##  №4\n"
      ]
    },
    {
      "cell_type": "code",
      "execution_count": null,
      "metadata": {
        "id": "BnYETwSLHgY5"
      },
      "outputs": [],
      "source": [
        "from __future__ import annotations\n",
        "\n",
        "\n",
        "class Employee:\n",
        "    def __init__(self, name: str, surname: str, base_salary: int, experience: int) -> None:\n",
        "        self.name = name\n",
        "        self.surname = surname\n",
        "        self.base_salary = base_salary\n",
        "        self.experience = experience\n",
        "\n",
        "    def counted_salary(self) -> float:\n",
        "        if self.experience > 5:\n",
        "          return self.base_salary * 1.2 + 500\n",
        "        if self.experience > 2:\n",
        "          return self.base_salary + 200\n",
        "        return self.base_salary\n",
        "\n",
        "\n",
        "class Developer(Employee):\n",
        "  pass\n",
        "\n",
        "\n",
        "class Designer(Employee):\n",
        "    def __init__(self, name: str, surname: str, base_salary: int, experience: int, eff_coef: float) -> None:\n",
        "\n",
        "        super().__init__(name, surname, base_salary, experience)\n",
        "        if eff_coef < 0:\n",
        "          self.eff_coef = 0\n",
        "        elif eff_coef > 1:\n",
        "          self.eff_coef = 1\n",
        "        else:\n",
        "          self.eff_coef = eff_coef\n",
        "\n",
        "    def counted_salary(self) -> float:\n",
        "      return super().counted_salary() * self.eff_coef\n",
        "\n",
        "\n",
        "class Manager(Employee):\n",
        "    def __init__(self, name: str, surname: str, base_salary: int, experience: int) -> None:\n",
        "\n",
        "        super().__init__(name, surname, base_salary, experience)\n",
        "        self.team = set()\n",
        "\n",
        "    def counted_salary(self) -> float:\n",
        "      number_of_developer = 0\n",
        "      for empl in self.team:\n",
        "        number_of_developer += 1 if isinstance(empl, Developer) else 0\n",
        "\n",
        "      if len(self.team) > 10:\n",
        "        counted_salary = super().counted_salary() + 300\n",
        "      elif len(self.team) > 5:\n",
        "        counted_salary = super().counted_salary() + 200\n",
        "      else:\n",
        "        counted_salary = super().counted_salary()\n",
        "      if len(self.team) != 0 and number_of_developer/len(self.team) > 0.5:\n",
        "\n",
        "        counted_salary *= 1.1\n",
        "      return counted_salary\n",
        "\n",
        "    def addEmployee(self, empl: Employee) -> None:\n",
        "      self.team.add(empl)\n",
        "\n",
        "\n",
        "class Department:\n",
        "    def __init__(self) -> None:\n",
        "      self.managers = set()\n",
        "\n",
        "    def addManager(self, man: Manager) -> None:\n",
        "      self.managers.add(man)\n",
        "\n",
        "    def give_salary(self) -> float:\n",
        "        sum_salary = 0\n",
        "\n",
        "        for manager in self.managers:\n",
        "          sum_salary +=  manager.counted_salary()\n",
        "          for employee in manager.team:\n",
        "            sum_salary += employee.counted_salary()\n",
        "        return sum_salary\n",
        "\n"
      ]
    },
    {
      "cell_type": "code",
      "source": [
        "\n",
        "import pdb\n"
      ],
      "metadata": {
        "id": "1l374lcDveXs"
      },
      "execution_count": null,
      "outputs": []
    }
  ],
  "metadata": {
    "kernelspec": {
      "display_name": "venv",
      "language": "python",
      "name": "python3"
    },
    "language_info": {
      "name": "python",
      "version": "3.11.6"
    },
    "colab": {
      "provenance": []
    }
  },
  "nbformat": 4,
  "nbformat_minor": 0
}